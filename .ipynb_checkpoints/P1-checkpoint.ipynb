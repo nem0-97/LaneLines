{
 "cells": [
  {
   "cell_type": "markdown",
   "metadata": {},
   "source": [
    "# Self-Driving Car Engineer Nanodegree\n",
    "\n",
    "\n",
    "## Project: **Finding Lane Lines on the Road** \n",
    "***\n",
    "In this project, you will use the tools you learned about in the lesson to identify lane lines on the road.  You can develop your pipeline on a series of individual images, and later apply the result to a video stream (really just a series of images). Check out the video clip \"raw-lines-example.mp4\" (also contained in this repository) to see what the output should look like after using the helper functions below. \n",
    "\n",
    "Once you have a result that looks roughly like \"raw-lines-example.mp4\", you'll need to get creative and try to average and/or extrapolate the line segments you've detected to map out the full extent of the lane lines.  You can see an example of the result you're going for in the video \"P1_example.mp4\".  Ultimately, you would like to draw just one line for the left side of the lane, and one for the right.\n",
    "\n",
    "In addition to implementing code, there is a brief writeup to complete. The writeup should be completed in a separate file, which can be either a markdown file or a pdf document. There is a [write up template](https://github.com/udacity/CarND-LaneLines-P1/blob/master/writeup_template.md) that can be used to guide the writing process. Completing both the code in the Ipython notebook and the writeup template will cover all of the [rubric points](https://review.udacity.com/#!/rubrics/322/view) for this project.\n",
    "\n",
    "---\n",
    "Let's have a look at our first image called 'test_images/solidWhiteRight.jpg'.  Run the 2 cells below (hit Shift-Enter or the \"play\" button above) to display the image.\n",
    "\n",
    "**Note: If, at any point, you encounter frozen display windows or other confounding issues, you can always start again with a clean slate by going to the \"Kernel\" menu above and selecting \"Restart & Clear Output\".**\n",
    "\n",
    "---"
   ]
  },
  {
   "cell_type": "markdown",
   "metadata": {},
   "source": [
    "**The tools you have are color selection, region of interest selection, grayscaling, Gaussian smoothing, Canny Edge Detection and Hough Tranform line detection.  You  are also free to explore and try other techniques that were not presented in the lesson.  Your goal is piece together a pipeline to detect the line segments in the image, then average/extrapolate them and draw them onto the image for display (as below).  Once you have a working pipeline, try it out on the video stream below.**\n",
    "\n",
    "---\n",
    "\n",
    "<figure>\n",
    " <img src=\"examples/line-segments-example.jpg\" width=\"380\" alt=\"Combined Image\" />\n",
    " <figcaption>\n",
    " <p></p> \n",
    " <p style=\"text-align: center;\"> Your output should look something like this (above) after detecting line segments using the helper functions below </p> \n",
    " </figcaption>\n",
    "</figure>\n",
    " <p></p> \n",
    "<figure>\n",
    " <img src=\"examples/laneLines_thirdPass.jpg\" width=\"380\" alt=\"Combined Image\" />\n",
    " <figcaption>\n",
    " <p></p> \n",
    " <p style=\"text-align: center;\"> Your goal is to connect/average/extrapolate line segments to get output like this</p> \n",
    " </figcaption>\n",
    "</figure>"
   ]
  },
  {
   "cell_type": "markdown",
   "metadata": {},
   "source": [
    "**Run the cell below to import some packages.  If you get an `import error` for a package you've already installed, try changing your kernel (select the Kernel menu above --> Change Kernel).  Still have problems?  Try relaunching Jupyter Notebook from the terminal prompt.  Also, consult the forums for more troubleshooting tips.**  "
   ]
  },
  {
   "cell_type": "markdown",
   "metadata": {},
   "source": [
    "## Import Packages"
   ]
  },
  {
   "cell_type": "code",
   "execution_count": 1,
   "metadata": {},
   "outputs": [],
   "source": [
    "#importing some useful packages\n",
    "import numpy as np\n",
    "import cv2\n",
    "import os#to access files and directories and to create them\n",
    "import shutil#to remove old output directory and contents"
   ]
  },
  {
   "cell_type": "markdown",
   "metadata": {},
   "source": [
    "## Read in an Image"
   ]
  },
  {
   "cell_type": "code",
   "execution_count": 2,
   "metadata": {},
   "outputs": [],
   "source": [
    "#reading in an image\n",
    "absoluteImgPath=os.path.join(os.getcwd(),'test_images','solidWhiteRight.jpg')\n",
    "testReadImage = cv2.imread(absoluteImgPath)"
   ]
  },
  {
   "cell_type": "markdown",
   "metadata": {},
   "source": [
    "## Build a Lane Finding Pipeline\n",
    "\n"
   ]
  },
  {
   "cell_type": "markdown",
   "metadata": {},
   "source": [
    "Build the pipeline and run your solution on all test_images. Make copies into the `test_images_output` directory, and you can use the images in your writeup report.\n",
    "\n",
    "Try tuning the various parameters, especially the low and high Canny thresholds as well as the Hough lines parameters."
   ]
  },
  {
   "cell_type": "code",
   "execution_count": 3,
   "metadata": {},
   "outputs": [],
   "source": [
    "def detectLines(img):\n",
    "    '''This function accepts an image containing lane lines and returns that image with the lane lines marked'''\n",
    "    #convert to greyscale\n",
    "    grayImg=cv2.cvtColor(img,cv2.COLOR_BGR2GRAY)\n",
    "    \n",
    "    #apply gaussian blur(only odd kernelSizes)\n",
    "    grayBlur=cv2.GaussianBlur(grayImg,(5,5),0)\n",
    "    \n",
    "    #run canny algorithm on greyscale img(it also does gaussian blur)\n",
    "    edges=cv2.Canny(grayBlur,50,125)\n",
    "    \n",
    "    #create image with only masked section of edges to run hough on\n",
    "    mask=np.zeros_like(edges)\n",
    "    \n",
    "    #fillpoly makes maskimg all white(3rd argument) in are definded with vertices(2nd argument)\n",
    "    cv2.fillPoly(mask,np.array([[(0,img.shape[0]),(12*img.shape[1]/25,3*img.shape[0]/5),(52.5*img.shape[1]/100,3*img.shape[0]/5),(img.shape[1],img.shape[0])]],dtype=np.int32),255)\n",
    "    maskedEdges=cv2.bitwise_and(edges,mask)\n",
    "    \n",
    "    #get lines using houghTransformation on maskedEdges img cv2.HoughLinesP(image,rhoRes,angleRes,threshold,np.array([]),min_line_length,max_line_gap)\n",
    "    lines=cv2.HoughLinesP(maskedEdges,2,np.pi/180,15,np.array([]),30,20)\n",
    "\n",
    "    #create image to mark lines on\n",
    "    lineImg=np.copy(img)\n",
    "\n",
    "    #get 2 points for each line to draw\n",
    "    #these will store points from lines closest to camera and furthest from camera for each lane line(initilize them to points that will be overwritten)\n",
    "    rLEnd=[-1,img.shape[0]+1]#off bottom of screen\n",
    "    rLStart=[-1,-1]#off top of screen\n",
    "    lLEnd=[-1,img.shape[0]+1]#off bottom of screen\n",
    "    lLStart=[-1,-1]#off top of screen\n",
    "    \n",
    "    for line in lines:\n",
    "        for x1,y1,x2,y2 in line:\n",
    "            #check if points should be a new endpoint for right or left lines and which end\n",
    "            slope=0\n",
    "            if(x2 != x1):#would get divide by 0 error before adding this\n",
    "                slope=(y2-y1)/(x2-x1)\n",
    "            if (slope<-.2)and(x1<img.shape[1]/2):#left line segments\n",
    "                if y1<y2:\n",
    "                    if y1<lLEnd[1]:\n",
    "                        lLEnd=[x1,y1]\n",
    "                    if y2>lLStart[1]:\n",
    "                        lLStart=[x2,y2]\n",
    "                else: #y2<y1 or y2==y1 (shouldn't happen since line's slope is not 0)\n",
    "                    if y2<lLEnd[1]:\n",
    "                        lLEnd=[x2,y2]\n",
    "                    if y1>lLStart[1]:\n",
    "                        lLStart=[x1,y1]\n",
    "            if (slope>.2)and(x1>img.shape[1]/2):#right line segments\n",
    "                if y1<y2:\n",
    "                    if y1<rLEnd[1]:\n",
    "                        rLEnd=[x1,y1]\n",
    "                    if y2>rLStart[1]:\n",
    "                        rLStart=[x2,y2]\n",
    "                else: #y2<y1 or y2==y1(which shouldn't happen since line's slope is not 0)\n",
    "                    if y2<rLEnd[1]:\n",
    "                        rLEnd=[x2,y2]\n",
    "                    if y1>rLStart[1]:\n",
    "                        rLStart=[x1,y1]\n",
    "\n",
    "    #calculate slope and intercept for lines(using endpoints) then draw lines using points y=top of region and y=bottom of region\n",
    "    leftSlope=(lLEnd[1]-lLStart[1])/(lLEnd[0]-lLStart[0])\n",
    "    rightSlope=(rLEnd[1]-rLStart[1])/(rLEnd[0]-rLStart[0])\n",
    "    leftInter=lLStart[1]-(lLStart[0]*leftSlope)\n",
    "    rightInter=rLStart[1]-(rLStart[0]*rightSlope)\n",
    "    #y=mx+b so x=(y-b)/m\n",
    "    \n",
    "    #middle line(for testing purposes and make it clearer what is going on)\n",
    "    cv2.line(lineImg,(int(img.shape[1]/2),img.shape[0]),(int(img.shape[1]/2),0),(0,0,255),2)\n",
    "    \n",
    "    #extrapolate the line at y=img.shape[0] and y=3*img.shape[0]/5\n",
    "    cv2.line(lineImg,(int((img.shape[0]-leftInter)/leftSlope),img.shape[0]),(int((3*img.shape[0]/5-leftInter)/leftSlope),int(3*img.shape[0]/5)),(0,255,0),2)#left line\n",
    "    cv2.line(lineImg,(int((img.shape[0]-rightInter)/rightSlope),img.shape[0]),(int((3*img.shape[0]/5-rightInter)/rightSlope),int(3*img.shape[0]/5)),(255,0,0),2)#right line\n",
    "    return lineImg"
   ]
  },
  {
   "cell_type": "markdown",
   "metadata": {},
   "source": [
    "## Test Images\n",
    "\n",
    "Build your pipeline to work on the images in the directory \"test_images\"  \n",
    "**You should make sure your pipeline works well on these images before you try the videos.**"
   ]
  },
  {
   "cell_type": "code",
   "execution_count": 4,
   "metadata": {},
   "outputs": [],
   "source": [
    "def imgDir(dir):\n",
    "    '''dir is path to directory where all the images(and only the images) are stored\n",
    "    images can be any format, and results are outputed same type as input\n",
    "    '''\n",
    "    #load filenames of all the images want to detectLines in and create output folder\n",
    "    filenames=os.listdir(dir)\n",
    "    if os.path.exists(dir+'_output'):\n",
    "        shutil.rmtree(dir+'_output')\n",
    "    os.mkdir(os.path.join(os.getcwd(),dir+'_output'))\n",
    "    \n",
    "    for img in filenames:\n",
    "        absImgPath=os.path.join(os.getcwd(),dir,img)\n",
    "        outImg=detectLines(cv2.imread(absImgPath))#read in the image and detect lane lines\n",
    "        cv2.imwrite(dir+'_output/'+img,outImg)#save image with lane lines to output directory\n",
    "        cv2.imshow(img,outImg)#show image with lane lines to screen\n",
    "        while True:\n",
    "            if cv2.waitKey(1) & 0xFF==ord('q'):#when they hit 'q' close the image on screen and move to next one\n",
    "                break\n",
    "        cv2.destroyAllWindows()"
   ]
  },
  {
   "cell_type": "code",
   "execution_count": 5,
   "metadata": {},
   "outputs": [],
   "source": [
    "imgDir('test_images')#test the function imgDir on the test_images directory"
   ]
  },
  {
   "cell_type": "markdown",
   "metadata": {},
   "source": [
    "# Test on Videos\n",
    "You know what's cooler than drawing lanes over images? Drawing lanes over video!\n",
    "\n",
    "We can test our solution on two provided videos:\n",
    "\n",
    "solidWhiteRight.mp4\n",
    "\n",
    "solidYellowLeft.mp4"
   ]
  },
  {
   "cell_type": "code",
   "execution_count": 6,
   "metadata": {},
   "outputs": [],
   "source": [
    "def videoDir(dir):\n",
    "    '''dir is path to directory containing multiple videos to process,\n",
    "    vid can be any format(that your computer has the proper codecs for)\n",
    "    this will output whatever video type vid is'''\n",
    "    #load filenames of all the videos want to detectLines in and create output folder\n",
    "    filenames=os.listdir(dir)\n",
    "    if os.path.exists(dir+'_output'):\n",
    "        shutil.rmtree(dir+'_output')\n",
    "    os.mkdir(os.path.join(os.getcwd(),dir+'_output'))\n",
    "    \n",
    "    for vid in filenames:\n",
    "        absVidPath=os.path.join(os.getcwd(),dir,vid)\n",
    "        cap=cv2.VideoCapture(absVidPath)\n",
    "        \n",
    "        #create VideoWriter object to create video file with same metadata as vid and put it into the output directory\n",
    "        absOutVidPath=os.path.join(os.getcwd(),dir+'_output',vid)\n",
    "        out=cv2.VideoWriter(absOutVidPath,int(cap.get(cv2.CAP_PROP_FOURCC)),cap.get(cv2.CAP_PROP_FPS),(int(cap.get(cv2.CAP_PROP_FRAME_WIDTH)),int(cap.get(cv2.CAP_PROP_FRAME_HEIGHT))))\n",
    "        \n",
    "        while(cap.isOpened()):#while vid still playing\n",
    "            ret,frame=cap.read()\n",
    "            if ret==True:\n",
    "                outFrame=detectLines(frame)#detect lane lines in the frame\n",
    "                out.write(outFrame)#write frame with lane lines drawn on to output video\n",
    "                cv2.imshow(vid,outFrame)#show fram with lane lines to screen\n",
    "                if cv2.waitKey(1) & 0xFF==ord('q'):#stop processing this video when user hits 'q'\n",
    "                    break\n",
    "            else:\n",
    "                break\n",
    "        #once done close streams\n",
    "        cap.release()\n",
    "        out.release()\n",
    "        #close window playing video\n",
    "        cv2.destroyAllWindows()"
   ]
  },
  {
   "cell_type": "code",
   "execution_count": 7,
   "metadata": {},
   "outputs": [],
   "source": [
    "videoDir('test_videos')#test videoDir on the test_videos directory"
   ]
  },
  {
   "cell_type": "markdown",
   "metadata": {},
   "source": [
    "## Writeup and Submission\n",
    "\n",
    "If you're satisfied with your video outputs, it's time to make the report writeup in a pdf or markdown file. Once you have this Ipython notebook ready along with the writeup, it's time to submit for review! Here is a [link](https://github.com/udacity/CarND-LaneLines-P1/blob/master/writeup_template.md) to the writeup template file.\n"
   ]
  },
  {
   "cell_type": "markdown",
   "metadata": {
    "collapsed": true
   },
   "source": [
    "## Optional Challenge\n",
    "\n",
    "When it goes over light part of the road the lines go crazy"
   ]
  },
  {
   "cell_type": "code",
   "execution_count": 8,
   "metadata": {},
   "outputs": [],
   "source": [
    "dir='test_videos'\n",
    "vid='challenge.mp4'\n",
    "absVidPath=os.path.join(os.getcwd(),dir,vid)\n",
    "cap=cv2.VideoCapture(absVidPath)\n",
    "\n",
    "#create VideoWriter object to create video file with same metadata as vid and put it into the output directory\n",
    "absOutVidPath=os.path.join(os.getcwd(),dir+'_output',vid)\n",
    "out=cv2.VideoWriter(absOutVidPath,int(cap.get(cv2.CAP_PROP_FOURCC)),cap.get(cv2.CAP_PROP_FPS),(int(cap.get(cv2.CAP_PROP_FRAME_WIDTH)),int(cap.get(cv2.CAP_PROP_FRAME_HEIGHT))))\n",
    "while(cap.isOpened()):#while vid still playing\n",
    "    ret,frame=cap.read()\n",
    "    if ret==True:\n",
    "        outFrame=detectLines(frame)#detect lane lines in the frame\n",
    "        out.write(outFrame)#write frame with lane lines drawn on to output video\n",
    "        cv2.imshow(vid,outFrame)#show fram with lane lines to screen\n",
    "        if cv2.waitKey(1) & 0xFF==ord('q'):#stop processing this video when user hits 'q'\n",
    "            break\n",
    "    else:\n",
    "        break\n",
    "#once done close streams\n",
    "cap.release()\n",
    "out.release()\n",
    "#close window playing video\n",
    "cv2.destroyAllWindows()"
   ]
  }
 ],
 "metadata": {
  "anaconda-cloud": {},
  "kernelspec": {
   "display_name": "Python 3",
   "language": "python",
   "name": "python3"
  },
  "language_info": {
   "codemirror_mode": {
    "name": "ipython",
    "version": 3
   },
   "file_extension": ".py",
   "mimetype": "text/x-python",
   "name": "python",
   "nbconvert_exporter": "python",
   "pygments_lexer": "ipython3",
   "version": "3.7.0"
  },
  "widgets": {
   "application/vnd.jupyter.widget-state+json": {
    "state": {},
    "version_major": 2,
    "version_minor": 0
   }
  }
 },
 "nbformat": 4,
 "nbformat_minor": 1
}
